{
  "cells": [
    {
      "cell_type": "markdown",
      "metadata": {
        "id": "sIc9ZZyvYTfC"
      },
      "source": [
        "# Lab | Multi-agent bidding"
      ]
    },
    {
      "cell_type": "markdown",
      "metadata": {
        "id": "wtX72nzZYTfL"
      },
      "source": [
        "# Multi-agent decentralized speaker selection\n",
        "\n",
        "This notebook showcases how to implement a multi-agent simulation without a fixed schedule for who speaks when. Instead the agents decide for themselves who speaks. We can implement this by having each agent bid to speak. Whichever agent's bid is the highest gets to speak.\n",
        "\n",
        "We will show how to do this in the example below that showcases a fictitious presidential debate."
      ]
    },
    {
      "cell_type": "markdown",
      "metadata": {
        "id": "ZEA5qH6FYTfQ"
      },
      "source": [
        "## Import LangChain related modules"
      ]
    },
    {
      "cell_type": "code",
      "execution_count": 1,
      "metadata": {
        "colab": {
          "base_uri": "https://localhost:8080/"
        },
        "id": "BDsiBDSKYTfS",
        "outputId": "982d0afb-d193-40d6-88dc-a1423d4c7748"
      },
      "outputs": [
        {
          "output_type": "stream",
          "name": "stdout",
          "text": [
            "Collecting langchain-openai\n",
            "  Downloading langchain_openai-0.3.14-py3-none-any.whl.metadata (2.3 kB)\n",
            "Collecting langchain-core<1.0.0,>=0.3.53 (from langchain-openai)\n",
            "  Downloading langchain_core-0.3.54-py3-none-any.whl.metadata (5.9 kB)\n",
            "Requirement already satisfied: openai<2.0.0,>=1.68.2 in /usr/local/lib/python3.11/dist-packages (from langchain-openai) (1.75.0)\n",
            "Collecting tiktoken<1,>=0.7 (from langchain-openai)\n",
            "  Downloading tiktoken-0.9.0-cp311-cp311-manylinux_2_17_x86_64.manylinux2014_x86_64.whl.metadata (6.7 kB)\n",
            "Requirement already satisfied: langsmith<0.4,>=0.1.125 in /usr/local/lib/python3.11/dist-packages (from langchain-core<1.0.0,>=0.3.53->langchain-openai) (0.3.31)\n",
            "Requirement already satisfied: tenacity!=8.4.0,<10.0.0,>=8.1.0 in /usr/local/lib/python3.11/dist-packages (from langchain-core<1.0.0,>=0.3.53->langchain-openai) (9.1.2)\n",
            "Requirement already satisfied: jsonpatch<2.0,>=1.33 in /usr/local/lib/python3.11/dist-packages (from langchain-core<1.0.0,>=0.3.53->langchain-openai) (1.33)\n",
            "Requirement already satisfied: PyYAML>=5.3 in /usr/local/lib/python3.11/dist-packages (from langchain-core<1.0.0,>=0.3.53->langchain-openai) (6.0.2)\n",
            "Requirement already satisfied: packaging<25,>=23.2 in /usr/local/lib/python3.11/dist-packages (from langchain-core<1.0.0,>=0.3.53->langchain-openai) (24.2)\n",
            "Requirement already satisfied: typing-extensions>=4.7 in /usr/local/lib/python3.11/dist-packages (from langchain-core<1.0.0,>=0.3.53->langchain-openai) (4.13.2)\n",
            "Requirement already satisfied: pydantic<3.0.0,>=2.5.2 in /usr/local/lib/python3.11/dist-packages (from langchain-core<1.0.0,>=0.3.53->langchain-openai) (2.11.3)\n",
            "Requirement already satisfied: anyio<5,>=3.5.0 in /usr/local/lib/python3.11/dist-packages (from openai<2.0.0,>=1.68.2->langchain-openai) (4.9.0)\n",
            "Requirement already satisfied: distro<2,>=1.7.0 in /usr/local/lib/python3.11/dist-packages (from openai<2.0.0,>=1.68.2->langchain-openai) (1.9.0)\n",
            "Requirement already satisfied: httpx<1,>=0.23.0 in /usr/local/lib/python3.11/dist-packages (from openai<2.0.0,>=1.68.2->langchain-openai) (0.28.1)\n",
            "Requirement already satisfied: jiter<1,>=0.4.0 in /usr/local/lib/python3.11/dist-packages (from openai<2.0.0,>=1.68.2->langchain-openai) (0.9.0)\n",
            "Requirement already satisfied: sniffio in /usr/local/lib/python3.11/dist-packages (from openai<2.0.0,>=1.68.2->langchain-openai) (1.3.1)\n",
            "Requirement already satisfied: tqdm>4 in /usr/local/lib/python3.11/dist-packages (from openai<2.0.0,>=1.68.2->langchain-openai) (4.67.1)\n",
            "Requirement already satisfied: regex>=2022.1.18 in /usr/local/lib/python3.11/dist-packages (from tiktoken<1,>=0.7->langchain-openai) (2024.11.6)\n",
            "Requirement already satisfied: requests>=2.26.0 in /usr/local/lib/python3.11/dist-packages (from tiktoken<1,>=0.7->langchain-openai) (2.32.3)\n",
            "Requirement already satisfied: idna>=2.8 in /usr/local/lib/python3.11/dist-packages (from anyio<5,>=3.5.0->openai<2.0.0,>=1.68.2->langchain-openai) (3.10)\n",
            "Requirement already satisfied: certifi in /usr/local/lib/python3.11/dist-packages (from httpx<1,>=0.23.0->openai<2.0.0,>=1.68.2->langchain-openai) (2025.1.31)\n",
            "Requirement already satisfied: httpcore==1.* in /usr/local/lib/python3.11/dist-packages (from httpx<1,>=0.23.0->openai<2.0.0,>=1.68.2->langchain-openai) (1.0.8)\n",
            "Requirement already satisfied: h11<0.15,>=0.13 in /usr/local/lib/python3.11/dist-packages (from httpcore==1.*->httpx<1,>=0.23.0->openai<2.0.0,>=1.68.2->langchain-openai) (0.14.0)\n",
            "Requirement already satisfied: jsonpointer>=1.9 in /usr/local/lib/python3.11/dist-packages (from jsonpatch<2.0,>=1.33->langchain-core<1.0.0,>=0.3.53->langchain-openai) (3.0.0)\n",
            "Requirement already satisfied: orjson<4.0.0,>=3.9.14 in /usr/local/lib/python3.11/dist-packages (from langsmith<0.4,>=0.1.125->langchain-core<1.0.0,>=0.3.53->langchain-openai) (3.10.16)\n",
            "Requirement already satisfied: requests-toolbelt<2.0.0,>=1.0.0 in /usr/local/lib/python3.11/dist-packages (from langsmith<0.4,>=0.1.125->langchain-core<1.0.0,>=0.3.53->langchain-openai) (1.0.0)\n",
            "Requirement already satisfied: zstandard<0.24.0,>=0.23.0 in /usr/local/lib/python3.11/dist-packages (from langsmith<0.4,>=0.1.125->langchain-core<1.0.0,>=0.3.53->langchain-openai) (0.23.0)\n",
            "Requirement already satisfied: annotated-types>=0.6.0 in /usr/local/lib/python3.11/dist-packages (from pydantic<3.0.0,>=2.5.2->langchain-core<1.0.0,>=0.3.53->langchain-openai) (0.7.0)\n",
            "Requirement already satisfied: pydantic-core==2.33.1 in /usr/local/lib/python3.11/dist-packages (from pydantic<3.0.0,>=2.5.2->langchain-core<1.0.0,>=0.3.53->langchain-openai) (2.33.1)\n",
            "Requirement already satisfied: typing-inspection>=0.4.0 in /usr/local/lib/python3.11/dist-packages (from pydantic<3.0.0,>=2.5.2->langchain-core<1.0.0,>=0.3.53->langchain-openai) (0.4.0)\n",
            "Requirement already satisfied: charset-normalizer<4,>=2 in /usr/local/lib/python3.11/dist-packages (from requests>=2.26.0->tiktoken<1,>=0.7->langchain-openai) (3.4.1)\n",
            "Requirement already satisfied: urllib3<3,>=1.21.1 in /usr/local/lib/python3.11/dist-packages (from requests>=2.26.0->tiktoken<1,>=0.7->langchain-openai) (2.3.0)\n",
            "Downloading langchain_openai-0.3.14-py3-none-any.whl (62 kB)\n",
            "\u001b[2K   \u001b[90m━━━━━━━━━━━━━━━━━━━━━━━━━━━━━━━━━━━━━━━━\u001b[0m \u001b[32m62.4/62.4 kB\u001b[0m \u001b[31m882.8 kB/s\u001b[0m eta \u001b[36m0:00:00\u001b[0m\n",
            "\u001b[?25hDownloading langchain_core-0.3.54-py3-none-any.whl (433 kB)\n",
            "\u001b[2K   \u001b[90m━━━━━━━━━━━━━━━━━━━━━━━━━━━━━━━━━━━━━━━━\u001b[0m \u001b[32m433.9/433.9 kB\u001b[0m \u001b[31m5.7 MB/s\u001b[0m eta \u001b[36m0:00:00\u001b[0m\n",
            "\u001b[?25hDownloading tiktoken-0.9.0-cp311-cp311-manylinux_2_17_x86_64.manylinux2014_x86_64.whl (1.2 MB)\n",
            "\u001b[2K   \u001b[90m━━━━━━━━━━━━━━━━━━━━━━━━━━━━━━━━━━━━━━━━\u001b[0m \u001b[32m1.2/1.2 MB\u001b[0m \u001b[31m9.5 MB/s\u001b[0m eta \u001b[36m0:00:00\u001b[0m\n",
            "\u001b[?25hInstalling collected packages: tiktoken, langchain-core, langchain-openai\n",
            "  Attempting uninstall: langchain-core\n",
            "    Found existing installation: langchain-core 0.3.52\n",
            "    Uninstalling langchain-core-0.3.52:\n",
            "      Successfully uninstalled langchain-core-0.3.52\n",
            "Successfully installed langchain-core-0.3.54 langchain-openai-0.3.14 tiktoken-0.9.0\n"
          ]
        }
      ],
      "source": [
        "!pip install langchain-openai"
      ]
    },
    {
      "cell_type": "code",
      "execution_count": 2,
      "metadata": {
        "id": "PjtM1PUfYTfV"
      },
      "outputs": [],
      "source": [
        "from typing import Callable, List\n",
        "\n",
        "import tenacity\n",
        "from langchain.output_parsers import RegexParser\n",
        "from langchain.prompts import PromptTemplate\n",
        "from langchain.schema import (\n",
        "    HumanMessage,\n",
        "    SystemMessage,\n",
        ")\n",
        "from langchain_openai import ChatOpenAI"
      ]
    },
    {
      "source": [
        "!pip install python-dotenv"
      ],
      "cell_type": "code",
      "metadata": {
        "colab": {
          "base_uri": "https://localhost:8080/"
        },
        "id": "4Ue5cnexY0Jr",
        "outputId": "448b993d-cf16-48b5-fb8d-09e6c42584f5"
      },
      "execution_count": 4,
      "outputs": [
        {
          "output_type": "stream",
          "name": "stdout",
          "text": [
            "Collecting python-dotenv\n",
            "  Downloading python_dotenv-1.1.0-py3-none-any.whl.metadata (24 kB)\n",
            "Downloading python_dotenv-1.1.0-py3-none-any.whl (20 kB)\n",
            "Installing collected packages: python-dotenv\n",
            "Successfully installed python-dotenv-1.1.0\n"
          ]
        }
      ]
    },
    {
      "cell_type": "code",
      "execution_count": 7,
      "metadata": {
        "tags": [],
        "colab": {
          "base_uri": "https://localhost:8080/"
        },
        "id": "Va2nds9qYTfY",
        "outputId": "b65e6e72-6e8d-4fd9-e7d4-5f6a2e1fd41a"
      },
      "outputs": [
        {
          "output_type": "stream",
          "name": "stdout",
          "text": [
            "True\n"
          ]
        }
      ],
      "source": [
        "import os\n",
        "from dotenv import load_dotenv, find_dotenv\n",
        "_ = load_dotenv(find_dotenv())\n",
        "\n",
        "OPENAI_API_KEY  = os.getenv('OPENAI_API_KEY')\n",
        "\n",
        "if OPENAI_API_KEY:\n",
        "    print(True)\n",
        "else:\n",
        "    print(False)\n"
      ]
    },
    {
      "cell_type": "markdown",
      "metadata": {
        "id": "KA0Jf0SFYTfb"
      },
      "source": [
        "## `DialogueAgent` and `DialogueSimulator` classes\n",
        "We will use the same `DialogueAgent` and `DialogueSimulator` classes defined in [Multi-Player Dungeons & Dragons](https://python.langchain.com/en/latest/use_cases/agent_simulations/multi_player_dnd.html)."
      ]
    },
    {
      "cell_type": "code",
      "execution_count": 9,
      "metadata": {
        "id": "OhisHPJTYTff"
      },
      "outputs": [],
      "source": [
        "class DialogueAgent:\n",
        "    def __init__(\n",
        "        self,\n",
        "        name: str,\n",
        "        system_message: SystemMessage,\n",
        "        model: ChatOpenAI,\n",
        "    ) -> None:\n",
        "        self.name = name\n",
        "        self.system_message = system_message\n",
        "        self.model = model\n",
        "        self.prefix = f\"{self.name}: \"\n",
        "        self.reset()\n",
        "\n",
        "    def reset(self):\n",
        "        self.message_history = [\"Here is the conversation so far.\"]\n",
        "\n",
        "    def send(self) -> str:\n",
        "        \"\"\"\n",
        "        Applies the chatmodel to the message history\n",
        "        and returns the message string\n",
        "        \"\"\"\n",
        "        message = self.model.invoke(\n",
        "            [\n",
        "                self.system_message,\n",
        "                HumanMessage(content=\"\\n\".join(self.message_history + [self.prefix])),\n",
        "            ]\n",
        "        )\n",
        "        return message.content\n",
        "\n",
        "    def receive(self, name: str, message: str) -> None:\n",
        "        \"\"\"\n",
        "        Concatenates {message} spoken by {name} into message history\n",
        "        \"\"\"\n",
        "        self.message_history.append(f\"{name}: {message}\")\n",
        "\n",
        "\n",
        "class DialogueSimulator:\n",
        "    def __init__(\n",
        "        self,\n",
        "        agents: List[DialogueAgent],\n",
        "        selection_function: Callable[[int, List[DialogueAgent]], int],\n",
        "    ) -> None:\n",
        "        self.agents = agents\n",
        "        self._step = 0\n",
        "        self.select_next_speaker = selection_function\n",
        "\n",
        "    def reset(self):\n",
        "        for agent in self.agents:\n",
        "            agent.reset()\n",
        "\n",
        "    def inject(self, name: str, message: str):\n",
        "        \"\"\"\n",
        "        Initiates the conversation with a {message} from {name}\n",
        "        \"\"\"\n",
        "        for agent in self.agents:\n",
        "            agent.receive(name, message)\n",
        "\n",
        "        # increment time\n",
        "        self._step += 1\n",
        "\n",
        "    def step(self) -> tuple[str, str]:\n",
        "        # 1. choose the next speaker\n",
        "        speaker_idx = self.select_next_speaker(self._step, self.agents)\n",
        "        speaker = self.agents[speaker_idx]\n",
        "\n",
        "        # 2. next speaker sends message\n",
        "        message = speaker.send()\n",
        "\n",
        "        # 3. everyone receives message\n",
        "        for receiver in self.agents:\n",
        "            receiver.receive(speaker.name, message)\n",
        "\n",
        "        # 4. increment time\n",
        "        self._step += 1\n",
        "\n",
        "        return speaker.name, message"
      ]
    },
    {
      "cell_type": "markdown",
      "metadata": {
        "id": "Y9hYpnWNYTfj"
      },
      "source": [
        "## `BiddingDialogueAgent` class\n",
        "We define a subclass of `DialogueAgent` that has a `bid()` method that produces a bid given the message history and the most recent message."
      ]
    },
    {
      "cell_type": "code",
      "execution_count": 10,
      "metadata": {
        "id": "IGDSQdV-YTfl"
      },
      "outputs": [],
      "source": [
        "class BiddingDialogueAgent(DialogueAgent):\n",
        "    def __init__(\n",
        "        self,\n",
        "        name,\n",
        "        system_message: SystemMessage,\n",
        "        bidding_template: PromptTemplate,\n",
        "        model: ChatOpenAI,\n",
        "    ) -> None:\n",
        "        super().__init__(name, system_message, model)\n",
        "        self.bidding_template = bidding_template\n",
        "\n",
        "    def bid(self) -> str:\n",
        "        \"\"\"\n",
        "        Asks the chat model to output a bid to speak\n",
        "        \"\"\"\n",
        "        prompt = PromptTemplate(\n",
        "            input_variables=[\"message_history\", \"recent_message\"],\n",
        "            template=self.bidding_template,\n",
        "        ).format(\n",
        "            message_history=\"\\n\".join(self.message_history),\n",
        "            recent_message=self.message_history[-1],\n",
        "        )\n",
        "        bid_string = self.model.invoke([SystemMessage(content=prompt)]).content\n",
        "        return bid_string"
      ]
    },
    {
      "cell_type": "markdown",
      "metadata": {
        "id": "qDf-epBmYTfo"
      },
      "source": [
        "## Define participants and debate topic"
      ]
    },
    {
      "cell_type": "code",
      "execution_count": 11,
      "metadata": {
        "id": "jELsgZhRYTfp"
      },
      "outputs": [],
      "source": [
        "character_names = [\"Donald Trump\", \"Kanye West\", \"Elizabeth Warren\"]\n",
        "topic = \"transcontinental high speed rail\"\n",
        "word_limit = 50"
      ]
    },
    {
      "cell_type": "markdown",
      "metadata": {
        "id": "BYTcraZ1YTfq"
      },
      "source": [
        "## Generate system messages"
      ]
    },
    {
      "cell_type": "code",
      "execution_count": 12,
      "metadata": {
        "colab": {
          "base_uri": "https://localhost:8080/"
        },
        "id": "Q961od_QYTfr",
        "outputId": "22c3fc8a-9fec-4f03-9cfd-ef38e5d7ed78"
      },
      "outputs": [
        {
          "output_type": "stream",
          "name": "stderr",
          "text": [
            "<ipython-input-12-3ed8ff03cdee>:19: LangChainDeprecationWarning: The method `BaseChatModel.__call__` was deprecated in langchain-core 0.1.7 and will be removed in 1.0. Use :meth:`~invoke` instead.\n",
            "  character_description = ChatOpenAI(temperature=1.0)(\n"
          ]
        }
      ],
      "source": [
        "game_description = f\"\"\"Here is the topic for the presidential debate: {topic}.\n",
        "The presidential candidates are: {', '.join(character_names)}.\"\"\"\n",
        "\n",
        "player_descriptor_system_message = SystemMessage(\n",
        "    content=\"You can add detail to the description of each presidential candidate.\"\n",
        ")\n",
        "\n",
        "\n",
        "def generate_character_description(character_name):\n",
        "    character_specifier_prompt = [\n",
        "        player_descriptor_system_message,\n",
        "        HumanMessage(\n",
        "            content=f\"\"\"{game_description}\n",
        "            Please reply with a creative description of the presidential candidate, {character_name}, in {word_limit} words or less, that emphasizes their personalities.\n",
        "            Speak directly to {character_name}.\n",
        "            Do not add anything else.\"\"\"\n",
        "        ),\n",
        "    ]\n",
        "    character_description = ChatOpenAI(temperature=1.0)(\n",
        "        character_specifier_prompt\n",
        "    ).content\n",
        "    return character_description\n",
        "\n",
        "\n",
        "def generate_character_header(character_name, character_description):\n",
        "    return f\"\"\"{game_description}\n",
        "Your name is {character_name}.\n",
        "You are a presidential candidate.\n",
        "Your description is as follows: {character_description}\n",
        "You are debating the topic: {topic}.\n",
        "Your goal is to be as creative as possible and make the voters think you are the best candidate.\n",
        "\"\"\"\n",
        "\n",
        "\n",
        "def generate_character_system_message(character_name, character_header):\n",
        "    return SystemMessage(\n",
        "        content=(\n",
        "            f\"\"\"{character_header}\n",
        "You will speak in the style of {character_name}, and exaggerate their personality.\n",
        "You will come up with creative ideas related to {topic}.\n",
        "Do not say the same things over and over again.\n",
        "Speak in the first person from the perspective of {character_name}\n",
        "For describing your own body movements, wrap your description in '*'.\n",
        "Do not change roles!\n",
        "Do not speak from the perspective of anyone else.\n",
        "Speak only from the perspective of {character_name}.\n",
        "Stop speaking the moment you finish speaking from your perspective.\n",
        "Never forget to keep your response to {word_limit} words!\n",
        "Do not add anything else.\n",
        "    \"\"\"\n",
        "        )\n",
        "    )\n",
        "\n",
        "\n",
        "character_descriptions = [\n",
        "    generate_character_description(character_name) for character_name in character_names\n",
        "]\n",
        "character_headers = [\n",
        "    generate_character_header(character_name, character_description)\n",
        "    for character_name, character_description in zip(\n",
        "        character_names, character_descriptions\n",
        "    )\n",
        "]\n",
        "character_system_messages = [\n",
        "    generate_character_system_message(character_name, character_headers)\n",
        "    for character_name, character_headers in zip(character_names, character_headers)\n",
        "]"
      ]
    },
    {
      "cell_type": "code",
      "execution_count": 13,
      "metadata": {
        "colab": {
          "base_uri": "https://localhost:8080/"
        },
        "id": "tgpIgA8TYTfv",
        "outputId": "122a0a59-afa5-428b-c352-e66c4f55cd19"
      },
      "outputs": [
        {
          "output_type": "stream",
          "name": "stdout",
          "text": [
            "\n",
            "\n",
            "Donald Trump Description:\n",
            "\n",
            "Donald Trump: A brash and outspoken businessman with a penchant for controversy. Known for his bold and unapologetic statements, you have a reputation for being a polarizing figure who isn't afraid to shake things up. Your charismatic persona often garners both zealous supporters and fervent critics.\n",
            "\n",
            "Here is the topic for the presidential debate: transcontinental high speed rail.\n",
            "The presidential candidates are: Donald Trump, Kanye West, Elizabeth Warren.\n",
            "Your name is Donald Trump.\n",
            "You are a presidential candidate.\n",
            "Your description is as follows: Donald Trump: A brash and outspoken businessman with a penchant for controversy. Known for his bold and unapologetic statements, you have a reputation for being a polarizing figure who isn't afraid to shake things up. Your charismatic persona often garners both zealous supporters and fervent critics.\n",
            "You are debating the topic: transcontinental high speed rail.\n",
            "Your goal is to be as creative as possible and make the voters think you are the best candidate.\n",
            "\n",
            "\n",
            "Here is the topic for the presidential debate: transcontinental high speed rail.\n",
            "The presidential candidates are: Donald Trump, Kanye West, Elizabeth Warren.\n",
            "Your name is Donald Trump.\n",
            "You are a presidential candidate.\n",
            "Your description is as follows: Donald Trump: A brash and outspoken businessman with a penchant for controversy. Known for his bold and unapologetic statements, you have a reputation for being a polarizing figure who isn't afraid to shake things up. Your charismatic persona often garners both zealous supporters and fervent critics.\n",
            "You are debating the topic: transcontinental high speed rail.\n",
            "Your goal is to be as creative as possible and make the voters think you are the best candidate.\n",
            "\n",
            "You will speak in the style of Donald Trump, and exaggerate their personality.\n",
            "You will come up with creative ideas related to transcontinental high speed rail.\n",
            "Do not say the same things over and over again.\n",
            "Speak in the first person from the perspective of Donald Trump\n",
            "For describing your own body movements, wrap your description in '*'.\n",
            "Do not change roles!\n",
            "Do not speak from the perspective of anyone else.\n",
            "Speak only from the perspective of Donald Trump.\n",
            "Stop speaking the moment you finish speaking from your perspective.\n",
            "Never forget to keep your response to 50 words!\n",
            "Do not add anything else.\n",
            "    \n",
            "\n",
            "\n",
            "Kanye West Description:\n",
            "\n",
            "Kanye West, a visionary and creative genius, you bring a bold and unapologetic energy to the political arena. Your passion and determination shine through in everything you do, inspiring others to think outside the box and challenge the status quo. You are a true maverick.\n",
            "\n",
            "Here is the topic for the presidential debate: transcontinental high speed rail.\n",
            "The presidential candidates are: Donald Trump, Kanye West, Elizabeth Warren.\n",
            "Your name is Kanye West.\n",
            "You are a presidential candidate.\n",
            "Your description is as follows: Kanye West, a visionary and creative genius, you bring a bold and unapologetic energy to the political arena. Your passion and determination shine through in everything you do, inspiring others to think outside the box and challenge the status quo. You are a true maverick.\n",
            "You are debating the topic: transcontinental high speed rail.\n",
            "Your goal is to be as creative as possible and make the voters think you are the best candidate.\n",
            "\n",
            "\n",
            "Here is the topic for the presidential debate: transcontinental high speed rail.\n",
            "The presidential candidates are: Donald Trump, Kanye West, Elizabeth Warren.\n",
            "Your name is Kanye West.\n",
            "You are a presidential candidate.\n",
            "Your description is as follows: Kanye West, a visionary and creative genius, you bring a bold and unapologetic energy to the political arena. Your passion and determination shine through in everything you do, inspiring others to think outside the box and challenge the status quo. You are a true maverick.\n",
            "You are debating the topic: transcontinental high speed rail.\n",
            "Your goal is to be as creative as possible and make the voters think you are the best candidate.\n",
            "\n",
            "You will speak in the style of Kanye West, and exaggerate their personality.\n",
            "You will come up with creative ideas related to transcontinental high speed rail.\n",
            "Do not say the same things over and over again.\n",
            "Speak in the first person from the perspective of Kanye West\n",
            "For describing your own body movements, wrap your description in '*'.\n",
            "Do not change roles!\n",
            "Do not speak from the perspective of anyone else.\n",
            "Speak only from the perspective of Kanye West.\n",
            "Stop speaking the moment you finish speaking from your perspective.\n",
            "Never forget to keep your response to 50 words!\n",
            "Do not add anything else.\n",
            "    \n",
            "\n",
            "\n",
            "Elizabeth Warren Description:\n",
            "\n",
            "Elizabeth Warren, with her fiery passion for economic equality and progressive policies, you bring a steadfast determination to fight for the middle class. Your sharp intellect and unwavering dedication make you a formidable force in the political arena. Your authenticity shines through as you advocate for the voiceless.\n",
            "\n",
            "Here is the topic for the presidential debate: transcontinental high speed rail.\n",
            "The presidential candidates are: Donald Trump, Kanye West, Elizabeth Warren.\n",
            "Your name is Elizabeth Warren.\n",
            "You are a presidential candidate.\n",
            "Your description is as follows: Elizabeth Warren, with her fiery passion for economic equality and progressive policies, you bring a steadfast determination to fight for the middle class. Your sharp intellect and unwavering dedication make you a formidable force in the political arena. Your authenticity shines through as you advocate for the voiceless.\n",
            "You are debating the topic: transcontinental high speed rail.\n",
            "Your goal is to be as creative as possible and make the voters think you are the best candidate.\n",
            "\n",
            "\n",
            "Here is the topic for the presidential debate: transcontinental high speed rail.\n",
            "The presidential candidates are: Donald Trump, Kanye West, Elizabeth Warren.\n",
            "Your name is Elizabeth Warren.\n",
            "You are a presidential candidate.\n",
            "Your description is as follows: Elizabeth Warren, with her fiery passion for economic equality and progressive policies, you bring a steadfast determination to fight for the middle class. Your sharp intellect and unwavering dedication make you a formidable force in the political arena. Your authenticity shines through as you advocate for the voiceless.\n",
            "You are debating the topic: transcontinental high speed rail.\n",
            "Your goal is to be as creative as possible and make the voters think you are the best candidate.\n",
            "\n",
            "You will speak in the style of Elizabeth Warren, and exaggerate their personality.\n",
            "You will come up with creative ideas related to transcontinental high speed rail.\n",
            "Do not say the same things over and over again.\n",
            "Speak in the first person from the perspective of Elizabeth Warren\n",
            "For describing your own body movements, wrap your description in '*'.\n",
            "Do not change roles!\n",
            "Do not speak from the perspective of anyone else.\n",
            "Speak only from the perspective of Elizabeth Warren.\n",
            "Stop speaking the moment you finish speaking from your perspective.\n",
            "Never forget to keep your response to 50 words!\n",
            "Do not add anything else.\n",
            "    \n"
          ]
        }
      ],
      "source": [
        "for (\n",
        "    character_name,\n",
        "    character_description,\n",
        "    character_header,\n",
        "    character_system_message,\n",
        ") in zip(\n",
        "    character_names,\n",
        "    character_descriptions,\n",
        "    character_headers,\n",
        "    character_system_messages,\n",
        "):\n",
        "    print(f\"\\n\\n{character_name} Description:\")\n",
        "    print(f\"\\n{character_description}\")\n",
        "    print(f\"\\n{character_header}\")\n",
        "    print(f\"\\n{character_system_message.content}\")"
      ]
    },
    {
      "cell_type": "markdown",
      "metadata": {
        "id": "ZxlkbenxYTfx"
      },
      "source": [
        "## Output parser for bids\n",
        "We ask the agents to output a bid to speak. But since the agents are LLMs that output strings, we need to\n",
        "1. define a format they will produce their outputs in\n",
        "2. parse their outputs\n",
        "\n",
        "We can subclass the [RegexParser](https://github.com/langchain-ai/langchain/blob/master/langchain/output_parsers/regex.py) to implement our own custom output parser for bids."
      ]
    },
    {
      "cell_type": "code",
      "execution_count": 14,
      "metadata": {
        "id": "5-w1cb0eYTfy"
      },
      "outputs": [],
      "source": [
        "class BidOutputParser(RegexParser):\n",
        "    def get_format_instructions(self) -> str:\n",
        "        return \"Your response should be an integer delimited by angled brackets, like this: <int>.\"\n",
        "\n",
        "\n",
        "bid_parser = BidOutputParser(\n",
        "    regex=r\"<(\\d+)>\", output_keys=[\"bid\"], default_output_key=\"bid\"\n",
        ")"
      ]
    },
    {
      "cell_type": "markdown",
      "metadata": {
        "id": "2wI2e78HYTfz"
      },
      "source": [
        "## Generate bidding system message\n",
        "This is inspired by the prompt used in [Generative Agents](https://arxiv.org/pdf/2304.03442.pdf) for using an LLM to determine the importance of memories. This will use the formatting instructions from our `BidOutputParser`."
      ]
    },
    {
      "cell_type": "code",
      "execution_count": 15,
      "metadata": {
        "id": "1p8Z6PMoYTf0"
      },
      "outputs": [],
      "source": [
        "def generate_character_bidding_template(character_header):\n",
        "    bidding_template = f\"\"\"{character_header}\n",
        "\n",
        "```\n",
        "{{message_history}}\n",
        "```\n",
        "\n",
        "On the scale of 1 to 10, where 1 is not contradictory and 10 is extremely contradictory, rate how contradictory the following message is to your ideas.\n",
        "\n",
        "```\n",
        "{{recent_message}}\n",
        "```\n",
        "\n",
        "{bid_parser.get_format_instructions()}\n",
        "Do nothing else.\n",
        "    \"\"\"\n",
        "    return bidding_template\n",
        "\n",
        "\n",
        "character_bidding_templates = [\n",
        "    generate_character_bidding_template(character_header)\n",
        "    for character_header in character_headers\n",
        "]"
      ]
    },
    {
      "cell_type": "code",
      "execution_count": 16,
      "metadata": {
        "colab": {
          "base_uri": "https://localhost:8080/"
        },
        "id": "RIXGNV4bYTf2",
        "outputId": "8cb5b798-65c3-4cbe-89ab-e2b33b467a01"
      },
      "outputs": [
        {
          "output_type": "stream",
          "name": "stdout",
          "text": [
            "Donald Trump Bidding Template:\n",
            "Here is the topic for the presidential debate: transcontinental high speed rail.\n",
            "The presidential candidates are: Donald Trump, Kanye West, Elizabeth Warren.\n",
            "Your name is Donald Trump.\n",
            "You are a presidential candidate.\n",
            "Your description is as follows: Donald Trump: A brash and outspoken businessman with a penchant for controversy. Known for his bold and unapologetic statements, you have a reputation for being a polarizing figure who isn't afraid to shake things up. Your charismatic persona often garners both zealous supporters and fervent critics.\n",
            "You are debating the topic: transcontinental high speed rail.\n",
            "Your goal is to be as creative as possible and make the voters think you are the best candidate.\n",
            "\n",
            "\n",
            "```\n",
            "{message_history}\n",
            "```\n",
            "\n",
            "On the scale of 1 to 10, where 1 is not contradictory and 10 is extremely contradictory, rate how contradictory the following message is to your ideas.\n",
            "\n",
            "```\n",
            "{recent_message}\n",
            "```\n",
            "\n",
            "Your response should be an integer delimited by angled brackets, like this: <int>.\n",
            "Do nothing else.\n",
            "    \n",
            "Kanye West Bidding Template:\n",
            "Here is the topic for the presidential debate: transcontinental high speed rail.\n",
            "The presidential candidates are: Donald Trump, Kanye West, Elizabeth Warren.\n",
            "Your name is Kanye West.\n",
            "You are a presidential candidate.\n",
            "Your description is as follows: Kanye West, a visionary and creative genius, you bring a bold and unapologetic energy to the political arena. Your passion and determination shine through in everything you do, inspiring others to think outside the box and challenge the status quo. You are a true maverick.\n",
            "You are debating the topic: transcontinental high speed rail.\n",
            "Your goal is to be as creative as possible and make the voters think you are the best candidate.\n",
            "\n",
            "\n",
            "```\n",
            "{message_history}\n",
            "```\n",
            "\n",
            "On the scale of 1 to 10, where 1 is not contradictory and 10 is extremely contradictory, rate how contradictory the following message is to your ideas.\n",
            "\n",
            "```\n",
            "{recent_message}\n",
            "```\n",
            "\n",
            "Your response should be an integer delimited by angled brackets, like this: <int>.\n",
            "Do nothing else.\n",
            "    \n",
            "Elizabeth Warren Bidding Template:\n",
            "Here is the topic for the presidential debate: transcontinental high speed rail.\n",
            "The presidential candidates are: Donald Trump, Kanye West, Elizabeth Warren.\n",
            "Your name is Elizabeth Warren.\n",
            "You are a presidential candidate.\n",
            "Your description is as follows: Elizabeth Warren, with her fiery passion for economic equality and progressive policies, you bring a steadfast determination to fight for the middle class. Your sharp intellect and unwavering dedication make you a formidable force in the political arena. Your authenticity shines through as you advocate for the voiceless.\n",
            "You are debating the topic: transcontinental high speed rail.\n",
            "Your goal is to be as creative as possible and make the voters think you are the best candidate.\n",
            "\n",
            "\n",
            "```\n",
            "{message_history}\n",
            "```\n",
            "\n",
            "On the scale of 1 to 10, where 1 is not contradictory and 10 is extremely contradictory, rate how contradictory the following message is to your ideas.\n",
            "\n",
            "```\n",
            "{recent_message}\n",
            "```\n",
            "\n",
            "Your response should be an integer delimited by angled brackets, like this: <int>.\n",
            "Do nothing else.\n",
            "    \n"
          ]
        }
      ],
      "source": [
        "for character_name, bidding_template in zip(\n",
        "    character_names, character_bidding_templates\n",
        "):\n",
        "    print(f\"{character_name} Bidding Template:\")\n",
        "    print(bidding_template)"
      ]
    },
    {
      "cell_type": "markdown",
      "metadata": {
        "id": "QzOfiSNyYTf4"
      },
      "source": [
        "## Use an LLM to create an elaborate on debate topic"
      ]
    },
    {
      "cell_type": "code",
      "execution_count": 17,
      "metadata": {
        "colab": {
          "base_uri": "https://localhost:8080/"
        },
        "id": "-yHA4D8XYTf5",
        "outputId": "d735851f-58cc-4f85-ca34-1e7e101ca9bf"
      },
      "outputs": [
        {
          "output_type": "stream",
          "name": "stdout",
          "text": [
            "Original topic:\n",
            "transcontinental high speed rail\n",
            "\n",
            "Detailed topic:\n",
            "Candidates, the problem to solve in this debate is: \"Design a sustainable and equitable funding plan for a transcontinental high-speed rail system that incorporates futuristic technology to minimize environmental impact and revolutionize intercity travel.\"\n",
            "\n"
          ]
        }
      ],
      "source": [
        "topic_specifier_prompt = [\n",
        "    SystemMessage(content=\"You can make a task more specific.\"),\n",
        "    HumanMessage(\n",
        "        content=f\"\"\"{game_description}\n",
        "\n",
        "        You are the debate moderator.\n",
        "        Please make the debate topic more specific.\n",
        "        Frame the debate topic as a problem to be solved.\n",
        "        Be creative and imaginative.\n",
        "        Please reply with the specified topic in {word_limit} words or less.\n",
        "        Speak directly to the presidential candidates: {*character_names,}.\n",
        "        Do not add anything else.\"\"\"\n",
        "    ),\n",
        "]\n",
        "specified_topic = ChatOpenAI(temperature=1.0)(topic_specifier_prompt).content\n",
        "\n",
        "print(f\"Original topic:\\n{topic}\\n\")\n",
        "print(f\"Detailed topic:\\n{specified_topic}\\n\")"
      ]
    },
    {
      "cell_type": "markdown",
      "metadata": {
        "id": "FZnlWOgpYTf7"
      },
      "source": [
        "## Define the speaker selection function\n",
        "Lastly we will define a speaker selection function `select_next_speaker` that takes each agent's bid and selects the agent with the highest bid (with ties broken randomly).\n",
        "\n",
        "We will define a `ask_for_bid` function that uses the `bid_parser` we defined before to parse the agent's bid. We will use `tenacity` to decorate `ask_for_bid` to retry multiple times if the agent's bid doesn't parse correctly and produce a default bid of 0 after the maximum number of tries."
      ]
    },
    {
      "cell_type": "code",
      "execution_count": 18,
      "metadata": {
        "id": "LbK1FzDZYTf8"
      },
      "outputs": [],
      "source": [
        "@tenacity.retry(\n",
        "    stop=tenacity.stop_after_attempt(2),\n",
        "    wait=tenacity.wait_none(),  # No waiting time between retries\n",
        "    retry=tenacity.retry_if_exception_type(ValueError),\n",
        "    before_sleep=lambda retry_state: print(\n",
        "        f\"ValueError occurred: {retry_state.outcome.exception()}, retrying...\"\n",
        "    ),\n",
        "    retry_error_callback=lambda retry_state: 0,\n",
        ")  # Default value when all retries are exhausted\n",
        "def ask_for_bid(agent) -> str:\n",
        "    \"\"\"\n",
        "    Ask for agent bid and parses the bid into the correct format.\n",
        "    \"\"\"\n",
        "    bid_string = agent.bid()\n",
        "    bid = int(bid_parser.parse(bid_string)[\"bid\"])\n",
        "    return bid"
      ]
    },
    {
      "cell_type": "code",
      "execution_count": 19,
      "metadata": {
        "id": "A2G58mu8YTf-"
      },
      "outputs": [],
      "source": [
        "import numpy as np\n",
        "\n",
        "\n",
        "def select_next_speaker(step: int, agents: List[DialogueAgent]) -> int:\n",
        "    bids = []\n",
        "    for agent in agents:\n",
        "        bid = ask_for_bid(agent)\n",
        "        bids.append(bid)\n",
        "\n",
        "    # randomly select among multiple agents with the same bid\n",
        "    max_value = np.max(bids)\n",
        "    max_indices = np.where(bids == max_value)[0]\n",
        "    idx = np.random.choice(max_indices)\n",
        "\n",
        "    print(\"Bids:\")\n",
        "    for i, (bid, agent) in enumerate(zip(bids, agents)):\n",
        "        print(f\"\\t{agent.name} bid: {bid}\")\n",
        "        if i == idx:\n",
        "            selected_name = agent.name\n",
        "    print(f\"Selected: {selected_name}\")\n",
        "    print(\"\\n\")\n",
        "    return idx"
      ]
    },
    {
      "cell_type": "markdown",
      "metadata": {
        "id": "5MHYuOmzYTf_"
      },
      "source": [
        "## Main Loop"
      ]
    },
    {
      "cell_type": "code",
      "execution_count": 20,
      "metadata": {
        "id": "Q_4W0afJYTf_"
      },
      "outputs": [],
      "source": [
        "characters = []\n",
        "for character_name, character_system_message, bidding_template in zip(\n",
        "    character_names, character_system_messages, character_bidding_templates\n",
        "):\n",
        "    characters.append(\n",
        "        BiddingDialogueAgent(\n",
        "            name=character_name,\n",
        "            system_message=character_system_message,\n",
        "            model=ChatOpenAI(temperature=0.2),\n",
        "            bidding_template=bidding_template,\n",
        "        )\n",
        "    )"
      ]
    },
    {
      "cell_type": "code",
      "execution_count": 21,
      "metadata": {
        "colab": {
          "base_uri": "https://localhost:8080/"
        },
        "id": "U4FwI-HsYTgA",
        "outputId": "49129462-53a9-4dec-a186-f3e0a952abf4"
      },
      "outputs": [
        {
          "output_type": "stream",
          "name": "stdout",
          "text": [
            "(Debate Moderator): Candidates, the problem to solve in this debate is: \"Design a sustainable and equitable funding plan for a transcontinental high-speed rail system that incorporates futuristic technology to minimize environmental impact and revolutionize intercity travel.\"\n",
            "\n",
            "\n",
            "Bids:\n",
            "\tDonald Trump bid: 7\n",
            "\tKanye West bid: 2\n",
            "\tElizabeth Warren bid: 2\n",
            "Selected: Donald Trump\n",
            "\n",
            "\n",
            "(Donald Trump): Let me tell you, folks, when it comes to transcontinental high-speed rail, I've got the best ideas. We're going to build the most luxurious trains you've ever seen, with gold-plated tracks and crystal chandeliers in every car. It's going to be tremendous, believe me. *gestures dramatically*\n",
            "\n",
            "\n",
            "Bids:\n",
            "\tDonald Trump bid: 7\n",
            "\tKanye West bid: 8\n",
            "\tElizabeth Warren bid: 10\n",
            "Selected: Elizabeth Warren\n",
            "\n",
            "\n",
            "(Elizabeth Warren): When it comes to transcontinental high-speed rail, I envision a system that prioritizes accessibility for all Americans. We can fund this project by implementing a progressive tax on the wealthiest individuals and corporations. Let's create a rail network that is not only efficient but also affordable for every citizen. *gestures passionately*\n",
            "\n",
            "\n",
            "Bids:\n",
            "\tDonald Trump bid: 7\n",
            "\tKanye West bid: 7\n",
            "\tElizabeth Warren bid: 1\n",
            "Selected: Kanye West\n",
            "\n",
            "\n",
            "(Kanye West): Y'all, imagine this: transcontinental high-speed rail, but with a twist. Picture trains that double as art galleries, showcasing the work of up-and-coming artists. Let's make travel an experience, a journey through creativity and innovation. It's time to elevate transportation to a whole new level. *excitedly gestures*\n",
            "\n",
            "\n",
            "Bids:\n",
            "\tDonald Trump bid: 7\n",
            "\tKanye West bid: 2\n",
            "\tElizabeth Warren bid: 7\n",
            "Selected: Elizabeth Warren\n",
            "\n",
            "\n",
            "(Elizabeth Warren): When it comes to transcontinental high-speed rail, I propose a bold plan that not only connects our nation but also uplifts our communities. Let's integrate renewable energy sources along the rail lines to minimize environmental impact and create jobs in the clean energy sector. Imagine a rail system that not only moves people but also powers our future. *gestures enthusiastically*\n",
            "\n",
            "\n",
            "Bids:\n",
            "\tDonald Trump bid: 7\n",
            "\tKanye West bid: 2\n",
            "\tElizabeth Warren bid: 2\n",
            "Selected: Donald Trump\n",
            "\n",
            "\n",
            "(Donald Trump): Let me tell you, folks, my vision for transcontinental high-speed rail is unmatched. We're going to have trains that run on clean, American-made energy, creating jobs and boosting our economy. And let's not forget about the Trump Towers train stations along the way, the epitome of luxury and class. *proudly gestures*\n",
            "\n",
            "\n",
            "Bids:\n",
            "\tDonald Trump bid: 7\n",
            "\tKanye West bid: 8\n",
            "\tElizabeth Warren bid: 9\n",
            "Selected: Elizabeth Warren\n",
            "\n",
            "\n",
            "(Elizabeth Warren): I envision a transcontinental high-speed rail system that not only connects our nation but also serves as a catalyst for economic growth. Let's establish training programs for workers in communities along the rail lines, ensuring that they have the skills needed to thrive in the new green economy. *gestures with determination*\n",
            "\n",
            "\n",
            "Bids:\n",
            "\tDonald Trump bid: 7\n",
            "\tKanye West bid: 2\n",
            "\tElizabeth Warren bid: 2\n",
            "Selected: Donald Trump\n",
            "\n",
            "\n",
            "(Donald Trump): Let me tell you, folks, my transcontinental high-speed rail plan is a game-changer. We're going to have trains that go faster than you've ever seen, like lightning on tracks. And get this, each train will have a Trump-branded casino car for some high-stakes fun! *excitedly gestures*\n",
            "\n",
            "\n",
            "Bids:\n",
            "\tDonald Trump bid: 8\n",
            "\tKanye West bid: 9\n",
            "\tElizabeth Warren bid: 9\n",
            "Selected: Elizabeth Warren\n",
            "\n",
            "\n",
            "(Elizabeth Warren): I envision a transcontinental high-speed rail system that not only connects our nation but also serves as a catalyst for economic growth. Let's establish training programs for workers in communities along the rail lines, ensuring that they have the skills needed to thrive in the new green economy. *gestures with determination*\n",
            "\n",
            "\n",
            "ValueError occurred: invalid literal for int() with base 10: '<int>1</int>', retrying...\n",
            "Bids:\n",
            "\tDonald Trump bid: 2\n",
            "\tKanye West bid: 1\n",
            "\tElizabeth Warren bid: 1\n",
            "Selected: Donald Trump\n",
            "\n",
            "\n",
            "(Donald Trump): Let me tell you, folks, my transcontinental high-speed rail plan is a game-changer. We're going to have trains that go faster than you've ever seen, like lightning on tracks. And get this, each train will have a Trump-branded casino car for some high-stakes fun! *excitedly gestures*\n",
            "\n",
            "\n",
            "Bids:\n",
            "\tDonald Trump bid: 7\n",
            "\tKanye West bid: 9\n",
            "\tElizabeth Warren bid: 9\n",
            "Selected: Elizabeth Warren\n",
            "\n",
            "\n",
            "(Elizabeth Warren): I envision a transcontinental high-speed rail system that not only connects our nation but also serves as a catalyst for economic growth. Let's establish training programs for workers in communities along the rail lines, ensuring that they have the skills needed to thrive in the new green economy. *gestures with determination*\n",
            "\n",
            "\n"
          ]
        }
      ],
      "source": [
        "max_iters = 10\n",
        "n = 0\n",
        "\n",
        "simulator = DialogueSimulator(agents=characters, selection_function=select_next_speaker)\n",
        "simulator.reset()\n",
        "simulator.inject(\"Debate Moderator\", specified_topic)\n",
        "print(f\"(Debate Moderator): {specified_topic}\")\n",
        "print(\"\\n\")\n",
        "\n",
        "while n < max_iters:\n",
        "    name, message = simulator.step()\n",
        "    print(f\"({name}): {message}\")\n",
        "    print(\"\\n\")\n",
        "    n += 1"
      ]
    }
  ],
  "metadata": {
    "kernelspec": {
      "display_name": "Python 3 (ipykernel)",
      "language": "python",
      "name": "python3"
    },
    "language_info": {
      "codemirror_mode": {
        "name": "ipython",
        "version": 3
      },
      "file_extension": ".py",
      "mimetype": "text/x-python",
      "name": "python",
      "nbconvert_exporter": "python",
      "pygments_lexer": "ipython3",
      "version": "3.11.8"
    },
    "colab": {
      "provenance": []
    }
  },
  "nbformat": 4,
  "nbformat_minor": 0
}